{
 "cells": [
  {
   "cell_type": "code",
   "execution_count": 9,
   "metadata": {},
   "outputs": [
    {
     "name": "stdout",
     "output_type": "stream",
     "text": [
      "[[12]]\n"
     ]
    }
   ],
   "source": [
    "#__classOf 会话控制\n",
    "\n",
    "import tensorflow as tf\n",
    "\n",
    "\n",
    "matrix1 = tf.constant([[3,3]])\n",
    "matrix2 = tf.constant([[2],\n",
    "                       [2]])\n",
    "#矩阵乘法, [3,3] * [[2],[2]] == [[12]]\n",
    "product = tf.matmul(matrix1,matrix2)\n",
    "#tf中的矩阵乘法 类似np.dot(matrix1,matrix2)\n",
    "\n",
    "#method 1 常规的打开后关闭\n",
    "# session = tf.Session()\n",
    "# result = session.run(product)\n",
    "# print result\n",
    "# session.close()\n",
    "\n",
    "#method 2 with open\n",
    "with tf.Session() as tf:\n",
    "    result = tf.run(product)\n",
    "    print result\n"
   ]
  }
 ],
 "metadata": {
  "kernelspec": {
   "display_name": "Python 2",
   "language": "python",
   "name": "python2"
  },
  "language_info": {
   "codemirror_mode": {
    "name": "ipython",
    "version": 2
   },
   "file_extension": ".py",
   "mimetype": "text/x-python",
   "name": "python",
   "nbconvert_exporter": "python",
   "pygments_lexer": "ipython2",
   "version": "2.7.13"
  }
 },
 "nbformat": 4,
 "nbformat_minor": 2
}
