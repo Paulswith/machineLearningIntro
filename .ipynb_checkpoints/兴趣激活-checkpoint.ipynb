{
 "cells": [
  {
   "cell_type": "code",
   "execution_count": null,
   "metadata": {
    "collapsed": true
   },
   "outputs": [],
   "source": [
    "#__classof 兴趣激活\n",
    "import tensorflow as tf\n",
    "import numpy as np\n",
    "\n",
    "\n",
    "\n",
    "x_data = np.random.rand(100).astype(np.float32) \n",
    "# print x_data #随机生成100个浮点32位的数\n",
    "y_data = x_data *0.1 + 0.3\n",
    "# print y_data  #预期是-> y = W*x+b ,Weight & biases 预期是接近0.1  和 0.3\n",
    "\n",
    "\n",
    "#mark ----------------create tensorflow structure -----start \n",
    "\n",
    "Weights_arg = tf.random_uniform([1,1],-1.0,1.0) # 默认位浮点类型\n",
    "# print Weights_arg  #参数: 一维, 初始范围始于-1,终于1 \n",
    "Weights = tf.Variable(Weights_difine)\n",
    "# print Weights #Variable生成该变量\n",
    "biases_arg = tf.zeros([1,1]) \n",
    "# print biases_arg  #初始范围为0-一维\n",
    "biases = tf.Variable(biases_arg) \n",
    "# print biases    \n",
    "y = Weights * x_data + biases\n",
    "# print y  #代入W*x+b 提取y\n",
    "\n",
    "loss_arg = tf.square(y - y_data)\n",
    "# print loss_arg  #提取到的y 减去预期的y_data\n",
    "loss = tf.reduce_mean(loss_arg)\n",
    "# print loss   #减少loss\n",
    "\n",
    "optimizer = tf.train.GradientDescentOptimizer(0.5)\n",
    "# print optimizer   #创建一个减少误差范围的优化器  0.5是学习效率,或者学习率\n",
    "train = optimizer.minimize(loss)\n",
    "# print train   #用这个优化器进行每一步的优化处理,逐渐减少每次的误差\n",
    "\n",
    "init = tf.initialize_all_variables()\n",
    "#初始化整个结构\n",
    "\n",
    "#mark ----------------create tensorflow structure -----end\n",
    "\n",
    "\n",
    "\n",
    "session = tf.Session() #创建一个session\n",
    "session.run(init)  #激活\n",
    "\n",
    "\n",
    "#mark ----------------------run--------------------\n",
    "\n",
    "for step in xrange(1000):\n",
    "    session.run(train)\n",
    "    if step % 20 == 0:\n",
    "        print '{step}-->Weight:{Weight}-->biases:{biases}'.format(step=step,\\\n",
    "                                                             Weight=session.run(Weights),\\\n",
    "                                                             biases=session.run(biases))\n"
   ]
  }
 ],
 "metadata": {
  "kernelspec": {
   "display_name": "Python 2",
   "language": "python",
   "name": "python2"
  },
  "language_info": {
   "codemirror_mode": {
    "name": "ipython",
    "version": 2
   },
   "file_extension": ".py",
   "mimetype": "text/x-python",
   "name": "python",
   "nbconvert_exporter": "python",
   "pygments_lexer": "ipython2",
   "version": "2.7.13"
  }
 },
 "nbformat": 4,
 "nbformat_minor": 2
}
