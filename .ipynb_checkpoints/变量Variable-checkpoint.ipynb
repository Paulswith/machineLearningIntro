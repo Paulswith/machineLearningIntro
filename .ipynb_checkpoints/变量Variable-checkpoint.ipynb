{
 "cells": [
  {
   "cell_type": "code",
   "execution_count": 4,
   "metadata": {},
   "outputs": [
    {
     "name": "stdout",
     "output_type": "stream",
     "text": [
      "WARNING:tensorflow:From /Users/v_ljiayili/PyPro/Anaconda/Anaconda/lib/python2.7/site-packages/tensorflow/python/util/tf_should_use.py:175: initialize_all_variables (from tensorflow.python.ops.variables) is deprecated and will be removed after 2017-03-02.\n",
      "Instructions for updating:\n",
      "Use `tf.global_variables_initializer` instead.\n",
      "23\n",
      "46\n",
      "69\n"
     ]
    }
   ],
   "source": [
    "#__classOf 变量Variable\n",
    "\n",
    "import tensorflow as tf\n",
    "\n",
    "\n",
    "original_var = tf.Variable(0,name='counter')\n",
    "#定义变量, 初始值-name\n",
    "each_change_constant = tf.constant(23)\n",
    "#定义一个常量,23\n",
    "\n",
    "new_var = tf.add(original_var,each_change_constant)\n",
    "#令变量和常量 加\n",
    "updata_var = tf.assign(original_var,new_var)\n",
    "#变量赋值\n",
    "\n",
    "init = tf.initialize_all_variables()\n",
    "#常规初始化变, 只有前面有定义变量都必须执行此步骤\n",
    "\n",
    "with tf.Session() as session:\n",
    "    session.run(init) \n",
    "    #必须预执行一步, 来激活变量\n",
    "    for step in xrange(3):\n",
    "        session.run(updata_var) #执行的步骤\n",
    "        print session.run(original_var) #每次输出都需要run\n"
   ]
  }
 ],
 "metadata": {
  "kernelspec": {
   "display_name": "Python 2",
   "language": "python",
   "name": "python2"
  },
  "language_info": {
   "codemirror_mode": {
    "name": "ipython",
    "version": 2
   },
   "file_extension": ".py",
   "mimetype": "text/x-python",
   "name": "python",
   "nbconvert_exporter": "python",
   "pygments_lexer": "ipython2",
   "version": "2.7.13"
  }
 },
 "nbformat": 4,
 "nbformat_minor": 2
}
