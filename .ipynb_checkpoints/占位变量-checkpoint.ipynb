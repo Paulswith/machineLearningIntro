{
 "cells": [
  {
   "cell_type": "code",
   "execution_count": 18,
   "metadata": {},
   "outputs": [
    {
     "name": "stdout",
     "output_type": "stream",
     "text": [
      "[[ 223.]]\n"
     ]
    }
   ],
   "source": [
    "#__classOf 占位变量 placeholder\n",
    "\n",
    "\n",
    "import tensorflow as tf\n",
    "\n",
    "\n",
    "input1 = tf.placeholder(tf.float32)\n",
    "#占位一个值,在执行的时候传入, 这意味着与下面执行的时候传入的feed_dict, 这个字典基本是成对出现的\n",
    "input2 = tf.placeholder(tf.float32)\n",
    "#可以指定数值类型\n",
    "\n",
    "\n",
    "output= tf.matmul(input1,input2)\n",
    "#tf.mul 乘法\n",
    "\n",
    "with tf.Session() as session:\n",
    "    \n",
    "    print session.run(output,feed_dict={input1:[[10.0]],input2:[[22.3]]})\n",
    "    # 在执行的时候赋值\n",
    "    #注意矩阵的写法, [[]]\n",
    "    "
   ]
  }
 ],
 "metadata": {
  "kernelspec": {
   "display_name": "Python 2",
   "language": "python",
   "name": "python2"
  },
  "language_info": {
   "codemirror_mode": {
    "name": "ipython",
    "version": 2
   },
   "file_extension": ".py",
   "mimetype": "text/x-python",
   "name": "python",
   "nbconvert_exporter": "python",
   "pygments_lexer": "ipython2",
   "version": "2.7.13"
  }
 },
 "nbformat": 4,
 "nbformat_minor": 2
}
